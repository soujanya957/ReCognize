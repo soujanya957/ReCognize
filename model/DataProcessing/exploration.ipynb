{
 "cells": [
  {
   "cell_type": "code",
   "execution_count": 1,
   "id": "68e15ced",
   "metadata": {},
   "outputs": [],
   "source": [
    "import pandas as pd \n",
    "import numpy as np\n",
    "import matplotlib.pyplot as plt\n",
    "import seaborn as sns"
   ]
  },
  {
   "cell_type": "code",
   "execution_count": 2,
   "id": "45c3043d",
   "metadata": {},
   "outputs": [],
   "source": [
    "#import processed_data.csv as df\n",
    "df = pd.read_csv(r'C:\\Users\\mihir\\ReCognize\\model\\processed_data\\processed_data.csv')"
   ]
  },
  {
   "cell_type": "code",
   "execution_count": 3,
   "id": "71420427",
   "metadata": {},
   "outputs": [
    {
     "data": {
      "text/plain": [
       "Index(['file_path', 'participant_id', 'age', 'sex', 'diagnosis', 'mmse',\n",
       "       'task_type', 'full_text', 'label'],\n",
       "      dtype='object')"
      ]
     },
     "execution_count": 3,
     "metadata": {},
     "output_type": "execute_result"
    }
   ],
   "source": [
    "df.columns "
   ]
  },
  {
   "cell_type": "code",
   "execution_count": 4,
   "id": "d1c6630f",
   "metadata": {},
   "outputs": [
    {
     "data": {
      "text/html": [
       "<div>\n",
       "<style scoped>\n",
       "    .dataframe tbody tr th:only-of-type {\n",
       "        vertical-align: middle;\n",
       "    }\n",
       "\n",
       "    .dataframe tbody tr th {\n",
       "        vertical-align: top;\n",
       "    }\n",
       "\n",
       "    .dataframe thead th {\n",
       "        text-align: right;\n",
       "    }\n",
       "</style>\n",
       "<table border=\"1\" class=\"dataframe\">\n",
       "  <thead>\n",
       "    <tr style=\"text-align: right;\">\n",
       "      <th></th>\n",
       "      <th>file_path</th>\n",
       "      <th>participant_id</th>\n",
       "      <th>age</th>\n",
       "      <th>sex</th>\n",
       "      <th>diagnosis</th>\n",
       "      <th>mmse</th>\n",
       "      <th>task_type</th>\n",
       "      <th>full_text</th>\n",
       "      <th>label</th>\n",
       "    </tr>\n",
       "  </thead>\n",
       "  <tbody>\n",
       "    <tr>\n",
       "      <th>0</th>\n",
       "      <td>C:\\Users\\mihir\\ReCognize\\model\\Pitt\\Control\\fl...</td>\n",
       "      <td>PAR</td>\n",
       "      <td>NaN</td>\n",
       "      <td>male</td>\n",
       "      <td>Control</td>\n",
       "      <td>NaN</td>\n",
       "      <td>fluency</td>\n",
       "      <td>oh . [+ exc] \u00151561_2061\u0015 dogs . \u00153163_3663\u0015 be...</td>\n",
       "      <td>0</td>\n",
       "    </tr>\n",
       "    <tr>\n",
       "      <th>1</th>\n",
       "      <td>C:\\Users\\mihir\\ReCognize\\model\\Pitt\\Control\\fl...</td>\n",
       "      <td>PAR</td>\n",
       "      <td>50;</td>\n",
       "      <td>male</td>\n",
       "      <td>Control</td>\n",
       "      <td>29.0</td>\n",
       "      <td>fluency</td>\n",
       "      <td>dog . \u00153646_4191\u0015 cow . \u00154191_5050\u0015 cat . \u0015505...</td>\n",
       "      <td>0</td>\n",
       "    </tr>\n",
       "    <tr>\n",
       "      <th>2</th>\n",
       "      <td>C:\\Users\\mihir\\ReCognize\\model\\Pitt\\Control\\re...</td>\n",
       "      <td>PAR</td>\n",
       "      <td>50;</td>\n",
       "      <td>male</td>\n",
       "      <td>Control</td>\n",
       "      <td>29.0</td>\n",
       "      <td>recall</td>\n",
       "      <td>George and his granddaughter went to visit (.....</td>\n",
       "      <td>0</td>\n",
       "    </tr>\n",
       "    <tr>\n",
       "      <th>3</th>\n",
       "      <td>C:\\Users\\mihir\\ReCognize\\model\\Pitt\\Control\\se...</td>\n",
       "      <td>PAR</td>\n",
       "      <td>50;</td>\n",
       "      <td>male</td>\n",
       "      <td>Control</td>\n",
       "      <td>29.0</td>\n",
       "      <td>sentence</td>\n",
       "      <td>I just used a pencil . \u00153905_4985\u0015 trees are p...</td>\n",
       "      <td>0</td>\n",
       "    </tr>\n",
       "    <tr>\n",
       "      <th>4</th>\n",
       "      <td>C:\\Users\\mihir\\ReCognize\\model\\Pitt\\Dementia\\f...</td>\n",
       "      <td>PAR</td>\n",
       "      <td>57;</td>\n",
       "      <td>male</td>\n",
       "      <td>ProbableAD</td>\n",
       "      <td>18.0</td>\n",
       "      <td>fluency</td>\n",
       "      <td>elephants . \u00153104_3604\u0015 zebra . \u00154746_5246\u0015 &amp;-...</td>\n",
       "      <td>1</td>\n",
       "    </tr>\n",
       "  </tbody>\n",
       "</table>\n",
       "</div>"
      ],
      "text/plain": [
       "                                           file_path participant_id  age  \\\n",
       "0  C:\\Users\\mihir\\ReCognize\\model\\Pitt\\Control\\fl...            PAR  NaN   \n",
       "1  C:\\Users\\mihir\\ReCognize\\model\\Pitt\\Control\\fl...            PAR  50;   \n",
       "2  C:\\Users\\mihir\\ReCognize\\model\\Pitt\\Control\\re...            PAR  50;   \n",
       "3  C:\\Users\\mihir\\ReCognize\\model\\Pitt\\Control\\se...            PAR  50;   \n",
       "4  C:\\Users\\mihir\\ReCognize\\model\\Pitt\\Dementia\\f...            PAR  57;   \n",
       "\n",
       "    sex   diagnosis  mmse task_type  \\\n",
       "0  male     Control   NaN   fluency   \n",
       "1  male     Control  29.0   fluency   \n",
       "2  male     Control  29.0    recall   \n",
       "3  male     Control  29.0  sentence   \n",
       "4  male  ProbableAD  18.0   fluency   \n",
       "\n",
       "                                           full_text  label  \n",
       "0  oh . [+ exc] \u00151561_2061\u0015 dogs . \u00153163_3663\u0015 be...      0  \n",
       "1  dog . \u00153646_4191\u0015 cow . \u00154191_5050\u0015 cat . \u0015505...      0  \n",
       "2  George and his granddaughter went to visit (.....      0  \n",
       "3  I just used a pencil . \u00153905_4985\u0015 trees are p...      0  \n",
       "4  elephants . \u00153104_3604\u0015 zebra . \u00154746_5246\u0015 &-...      1  "
      ]
     },
     "execution_count": 4,
     "metadata": {},
     "output_type": "execute_result"
    }
   ],
   "source": [
    "df.head()"
   ]
  },
  {
   "cell_type": "code",
   "execution_count": 6,
   "id": "84b8cdd7",
   "metadata": {},
   "outputs": [
    {
     "data": {
      "text/plain": [
       "file_path          0\n",
       "participant_id     0\n",
       "age               72\n",
       "sex                2\n",
       "diagnosis          0\n",
       "mmse              89\n",
       "task_type          0\n",
       "full_text          0\n",
       "label              0\n",
       "dtype: int64"
      ]
     },
     "execution_count": 6,
     "metadata": {},
     "output_type": "execute_result"
    }
   ],
   "source": [
    "#count null values in each column\n",
    "df.isnull().sum()\n"
   ]
  },
  {
   "cell_type": "code",
   "execution_count": 7,
   "id": "71b34985",
   "metadata": {},
   "outputs": [
    {
     "data": {
      "image/png": "[encoded data removed]",
      "text/plain": [
       "<Figure size 640x480 with 1 Axes>"
      ]
     },
     "metadata": {},
     "output_type": "display_data"
    }
   ],
   "source": [
    "# plot diagnosis as a bar chart\n",
    "sns.countplot(x='diagnosis', data=df)\n",
    "plt.title('Diagnosis Distribution')\n",
    "plt.xlabel('Diagnosis')\n",
    "plt.ylabel('Count')\n",
    "plt.show()\n"
   ]
  },
  {
   "cell_type": "code",
   "execution_count": 8,
   "id": "20d7be70",
   "metadata": {},
   "outputs": [
    {
     "data": {
      "text/plain": [
       "dtype('float64')"
      ]
     },
     "execution_count": 8,
     "metadata": {},
     "output_type": "execute_result"
    }
   ],
   "source": [
    "#what is mmse data type\n",
    "df['mmse'].dtype"
   ]
  },
  {
   "cell_type": "code",
   "execution_count": null,
   "id": "cdd383aa",
   "metadata": {},
   "outputs": [],
   "source": []
  }
 ],
 "metadata": {
  "kernelspec": {
   "display_name": "base",
   "language": "python",
   "name": "python3"
  },
  "language_info": {
   "codemirror_mode": {
    "name": "ipython",
    "version": 3
   },
   "file_extension": ".py",
   "mimetype": "text/x-python",
   "name": "python",
   "nbconvert_exporter": "python",
   "pygments_lexer": "ipython3",
   "version": "3.11.5"
  }
 },
 "nbformat": 4,
 "nbformat_minor": 5
}
